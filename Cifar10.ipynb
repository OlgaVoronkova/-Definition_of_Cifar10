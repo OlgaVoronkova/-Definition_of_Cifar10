{
  "cells": [
    {
      "cell_type": "markdown",
      "metadata": {
        "id": "view-in-github",
        "colab_type": "text"
      },
      "source": [
        "<a href=\"https://colab.research.google.com/github/OlgaVoronkova/Definition_of_Cifar10/blob/main/Cifar10.ipynb\" target=\"_parent\"><img src=\"https://colab.research.google.com/assets/colab-badge.svg\" alt=\"Open In Colab\"/></a>"
      ]
    },
    {
      "cell_type": "code",
      "execution_count": 15,
      "metadata": {
        "id": "9fma8kOcwzki"
      },
      "outputs": [],
      "source": [
        "from tensorflow.keras.datasets import  cifar10 #Библиотека с базой Cifar10\n",
        "from tensorflow.keras.models import Sequential # Подлючаем класс создания модели Sequential\n",
        "from tensorflow.keras.layers import Dense, Conv2D, MaxPooling2D, Flatten, Dropout, BatchNormalization # Подключаем класс Dense - полносвязный слой\n",
        "from tensorflow.keras.optimizers import Adam, Adadelta # Подключаем оптимизатор Adam\n",
        "from tensorflow.keras import utils #Утилиты для to_categorical\n",
        "from tensorflow.keras.preprocessing import image #Для отрисовки изображения\n",
        "import numpy as np # Подключаем библиотеку numpy\n",
        "import pylab # Модуль для построения графиков\n",
        "from mpl_toolkits.mplot3d import Axes3D # Модуль для трехмерной графики\n",
        "from google.colab import files #Для загрузки своей картинки\n",
        "import matplotlib.pyplot as plt #Отрисовка изображений\n",
        "from PIL import Image #Отрисовка изображений\n",
        "from sklearn.model_selection import train_test_split\n",
        "#Отрисовывать изображения в ноутбуке, а не в консоль или файл\n",
        "import random #Для генерации случайных чисел \n",
        "import math # Для округления\n",
        "import os #Для работы с файлами \n",
        "# подключем диск\n",
        "from google.colab import drive\n",
        "%matplotlib inline"
      ]
    },
    {
      "cell_type": "code",
      "execution_count": 16,
      "metadata": {
        "id": "EZ4ZXAZ7xYMV"
      },
      "outputs": [],
      "source": [
        "(x_train, y_train), (x_test, y_test) = cifar10.load_data()"
      ]
    },
    {
      "cell_type": "code",
      "execution_count": 17,
      "metadata": {
        "id": "dOqLZ_E60cBi",
        "colab": {
          "base_uri": "https://localhost:8080/"
        },
        "outputId": "19d0d117-3474-4f1d-cb50-462fbb6e6285"
      },
      "outputs": [
        {
          "output_type": "stream",
          "name": "stdout",
          "text": [
            "(50000, 32, 32, 3)\n",
            "(10000, 32, 32, 3)\n"
          ]
        }
      ],
      "source": [
        "print(x_train.shape)\n",
        "print(x_test.shape)"
      ]
    },
    {
      "cell_type": "code",
      "execution_count": 18,
      "metadata": {
        "id": "QwAmq5Lt_PCY"
      },
      "outputs": [],
      "source": [
        "# Преобразуем ответы в формат one_hot_encoding\n",
        "y_train = utils.to_categorical(y_train, 10)\n",
        "y_test = utils.to_categorical(y_test, 10)"
      ]
    },
    {
      "cell_type": "code",
      "execution_count": 19,
      "metadata": {
        "id": "4AM06CeW1iZ2",
        "colab": {
          "base_uri": "https://localhost:8080/"
        },
        "outputId": "b8a8cd7a-0568-44fb-e75b-e3a221477bb8"
      },
      "outputs": [
        {
          "output_type": "stream",
          "name": "stdout",
          "text": [
            "(50000, 10)\n",
            "(10000, 10)\n"
          ]
        }
      ],
      "source": [
        "print(y_train.shape)\n",
        "print(y_test.shape)"
      ]
    },
    {
      "cell_type": "code",
      "execution_count": 20,
      "metadata": {
        "id": "uYjzW9H92ECX",
        "colab": {
          "base_uri": "https://localhost:8080/"
        },
        "outputId": "3e9458bb-2929-4323-8d27-d9603ec0006f"
      },
      "outputs": [
        {
          "output_type": "stream",
          "name": "stdout",
          "text": [
            "Model: \"sequential_3\"\n",
            "_________________________________________________________________\n",
            " Layer (type)                Output Shape              Param #   \n",
            "=================================================================\n",
            " batch_normalization_15 (Bat  (None, 32, 32, 3)        12        \n",
            " chNormalization)                                                \n",
            "                                                                 \n",
            " conv2d_15 (Conv2D)          (None, 32, 32, 1024)      28672     \n",
            "                                                                 \n",
            " max_pooling2d_11 (MaxPoolin  (None, 16, 16, 1024)     0         \n",
            " g2D)                                                            \n",
            "                                                                 \n",
            " dropout_17 (Dropout)        (None, 16, 16, 1024)      0         \n",
            "                                                                 \n",
            " batch_normalization_16 (Bat  (None, 16, 16, 1024)     4096      \n",
            " chNormalization)                                                \n",
            "                                                                 \n",
            " conv2d_16 (Conv2D)          (None, 16, 16, 512)       4719104   \n",
            "                                                                 \n",
            " max_pooling2d_12 (MaxPoolin  (None, 8, 8, 512)        0         \n",
            " g2D)                                                            \n",
            "                                                                 \n",
            " dropout_18 (Dropout)        (None, 8, 8, 512)         0         \n",
            "                                                                 \n",
            " batch_normalization_17 (Bat  (None, 8, 8, 512)        2048      \n",
            " chNormalization)                                                \n",
            "                                                                 \n",
            " conv2d_17 (Conv2D)          (None, 8, 8, 256)         1179904   \n",
            "                                                                 \n",
            " max_pooling2d_13 (MaxPoolin  (None, 4, 4, 256)        0         \n",
            " g2D)                                                            \n",
            "                                                                 \n",
            " dropout_19 (Dropout)        (None, 4, 4, 256)         0         \n",
            "                                                                 \n",
            " batch_normalization_18 (Bat  (None, 4, 4, 256)        1024      \n",
            " chNormalization)                                                \n",
            "                                                                 \n",
            " conv2d_18 (Conv2D)          (None, 4, 4, 124)         285820    \n",
            "                                                                 \n",
            " max_pooling2d_14 (MaxPoolin  (None, 2, 2, 124)        0         \n",
            " g2D)                                                            \n",
            "                                                                 \n",
            " dropout_20 (Dropout)        (None, 2, 2, 124)         0         \n",
            "                                                                 \n",
            " batch_normalization_19 (Bat  (None, 2, 2, 124)        496       \n",
            " chNormalization)                                                \n",
            "                                                                 \n",
            " conv2d_19 (Conv2D)          (None, 2, 2, 32)          35744     \n",
            "                                                                 \n",
            " dropout_21 (Dropout)        (None, 2, 2, 32)          0         \n",
            "                                                                 \n",
            " flatten_3 (Flatten)         (None, 128)               0         \n",
            "                                                                 \n",
            " dense_8 (Dense)             (None, 1000)              129000    \n",
            "                                                                 \n",
            " dense_9 (Dense)             (None, 500)               500500    \n",
            "                                                                 \n",
            " dropout_22 (Dropout)        (None, 500)               0         \n",
            "                                                                 \n",
            " dense_10 (Dense)            (None, 10)                5010      \n",
            "                                                                 \n",
            "=================================================================\n",
            "Total params: 6,891,430\n",
            "Trainable params: 6,887,592\n",
            "Non-trainable params: 3,838\n",
            "_________________________________________________________________\n",
            "Epoch 1/20\n",
            "500/500 [==============================] - 66s 129ms/step - loss: 1.4918 - accuracy: 0.4490 - val_loss: 1.1393 - val_accuracy: 0.5951\n",
            "Epoch 2/20\n",
            "500/500 [==============================] - 62s 125ms/step - loss: 1.1020 - accuracy: 0.6084 - val_loss: 0.9978 - val_accuracy: 0.6396\n",
            "Epoch 3/20\n",
            "500/500 [==============================] - 62s 124ms/step - loss: 0.9059 - accuracy: 0.6836 - val_loss: 0.7567 - val_accuracy: 0.7421\n",
            "Epoch 4/20\n",
            "500/500 [==============================] - 64s 128ms/step - loss: 0.7875 - accuracy: 0.7291 - val_loss: 0.7312 - val_accuracy: 0.7503\n",
            "Epoch 5/20\n",
            "500/500 [==============================] - 62s 124ms/step - loss: 0.7050 - accuracy: 0.7581 - val_loss: 0.6527 - val_accuracy: 0.7730\n",
            "Epoch 6/20\n",
            "500/500 [==============================] - 62s 124ms/step - loss: 0.6319 - accuracy: 0.7848 - val_loss: 0.6282 - val_accuracy: 0.7846\n",
            "Epoch 7/20\n",
            "500/500 [==============================] - 64s 128ms/step - loss: 0.5841 - accuracy: 0.8033 - val_loss: 0.6186 - val_accuracy: 0.7869\n",
            "Epoch 8/20\n",
            "500/500 [==============================] - 62s 124ms/step - loss: 0.5397 - accuracy: 0.8164 - val_loss: 0.5821 - val_accuracy: 0.8023\n",
            "Epoch 9/20\n",
            "500/500 [==============================] - 64s 127ms/step - loss: 0.5038 - accuracy: 0.8301 - val_loss: 0.5467 - val_accuracy: 0.8180\n",
            "Epoch 10/20\n",
            "500/500 [==============================] - 64s 128ms/step - loss: 0.4659 - accuracy: 0.8439 - val_loss: 0.6275 - val_accuracy: 0.7973\n",
            "Epoch 11/20\n",
            "500/500 [==============================] - 62s 123ms/step - loss: 0.4448 - accuracy: 0.8496 - val_loss: 0.5335 - val_accuracy: 0.8269\n",
            "Epoch 12/20\n",
            "500/500 [==============================] - 62s 123ms/step - loss: 0.4205 - accuracy: 0.8576 - val_loss: 0.5301 - val_accuracy: 0.8305\n",
            "Epoch 13/20\n",
            "500/500 [==============================] - 64s 128ms/step - loss: 0.3970 - accuracy: 0.8660 - val_loss: 0.5105 - val_accuracy: 0.8370\n",
            "Epoch 14/20\n",
            "500/500 [==============================] - 62s 123ms/step - loss: 0.3783 - accuracy: 0.8727 - val_loss: 0.5593 - val_accuracy: 0.8233\n",
            "Epoch 15/20\n",
            "500/500 [==============================] - 61s 123ms/step - loss: 0.3569 - accuracy: 0.8811 - val_loss: 0.5357 - val_accuracy: 0.8313\n",
            "Epoch 16/20\n",
            "500/500 [==============================] - 64s 127ms/step - loss: 0.3422 - accuracy: 0.8837 - val_loss: 0.5455 - val_accuracy: 0.8364\n",
            "Epoch 17/20\n",
            "500/500 [==============================] - 64s 127ms/step - loss: 0.3286 - accuracy: 0.8901 - val_loss: 0.5455 - val_accuracy: 0.8316\n",
            "Epoch 18/20\n",
            "500/500 [==============================] - 64s 127ms/step - loss: 0.3130 - accuracy: 0.8935 - val_loss: 0.5441 - val_accuracy: 0.8332\n",
            "Epoch 19/20\n",
            "500/500 [==============================] - 62s 123ms/step - loss: 0.3023 - accuracy: 0.8967 - val_loss: 0.5425 - val_accuracy: 0.8356\n",
            "Epoch 20/20\n",
            "500/500 [==============================] - 63s 127ms/step - loss: 0.2896 - accuracy: 0.9016 - val_loss: 0.5061 - val_accuracy: 0.8422\n"
          ]
        }
      ],
      "source": [
        "pic_model = Sequential()\n",
        "#Слой пакетной нормализации\n",
        "pic_model.add(BatchNormalization(input_shape=(32, 32, 3)))\n",
        "#Первый сверточный слой\n",
        "pic_model.add(Conv2D(1024, 3, padding='same', activation='relu'))\n",
        "#Первый слой подвыборки\n",
        "pic_model.add(MaxPooling2D(pool_size=(2, 2)))\n",
        "#Слой регуляризации Dropout\n",
        "pic_model.add(Dropout(0.3))\n",
        "\n",
        "pic_model.add(BatchNormalization())\n",
        "#Второй сверточный слой\n",
        "pic_model.add(Conv2D(512, 3, padding='same', activation='relu'))\n",
        "#Первый слой подвыборки\n",
        "pic_model.add(MaxPooling2D(pool_size=(2, 2)))\n",
        "#Слой регуляризации Dropout\n",
        "pic_model.add(Dropout(0.3))\n",
        "\n",
        "pic_model.add(BatchNormalization())\n",
        "#Второй сверточный слой\n",
        "pic_model.add(Conv2D(256, 3 , padding='same', activation='relu'))\n",
        "#Первый слой подвыборки\n",
        "pic_model.add(MaxPooling2D(pool_size=(2, 2)))\n",
        "#Слой регуляризации Dropout\n",
        "pic_model.add(Dropout(0.3))\n",
        "\n",
        "pic_model.add(BatchNormalization())\n",
        "#Первый сверточный слой\n",
        "pic_model.add(Conv2D(124, 3, padding='same', activation='relu'))\n",
        "#Первый слой подвыборки\n",
        "pic_model.add(MaxPooling2D(pool_size=(2, 2)))\n",
        "#Слой регуляризации Dropout\n",
        "pic_model.add(Dropout(0.3))\n",
        "\n",
        "pic_model.add(BatchNormalization())\n",
        "#Первый сверточный слой\n",
        "pic_model.add(Conv2D(32, 3, padding='same', activation='relu'))\n",
        "#Слой регуляризации Dropout\n",
        "pic_model.add(Dropout(0.3))\n",
        "\n",
        "pic_model.add(Flatten())\n",
        "#Полносвязный слой для классификации\n",
        "pic_model.add(Dense(1000, activation='relu'))\n",
        "pic_model.add(Dense(500, activation='relu'))\n",
        "pic_model.add(Dropout(0.3))\n",
        "pic_model.add(Dense(10, activation=\"softmax\"))\n",
        "\n",
        "pic_model.compile(loss=\"categorical_crossentropy\", optimizer=Adam(lr=0.001), metrics=['accuracy'])\n",
        "pic_model.summary()\n",
        "\n",
        "#fit - функция обучения нейронки\n",
        "#x_train, y_train - обучающая выборка, входные и выходные данные\n",
        "#batch_size - размер батча, количество примеров, которое обрабатывает нейронка перед одним изменением весов\n",
        "#epochs - количество эпох, когда нейронка обучается на всех примерах выборки\n",
        "#verbose - 0 - не визуализировать ход обучения, 1 - визуализировать\n",
        "history = pic_model.fit(x_train, y_train, batch_size=100, epochs=20, validation_data=(x_test, y_test))"
      ]
    },
    {
      "cell_type": "code",
      "source": [
        "pic_model.compile(loss=\"categorical_crossentropy\", optimizer=Adam(lr=0.000001), metrics=['accuracy'])\n",
        "\n",
        "#fit - функция обучения нейронки\n",
        "#x_train, y_train - обучающая выборка, входные и выходные данные\n",
        "#batch_size - размер батча, количество примеров, которое обрабатывает нейронка перед одним изменением весов\n",
        "#epochs - количество эпох, когда нейронка обучается на всех примерах выборки\n",
        "#verbose - 0 - не визуализировать ход обучения, 1 - визуализировать\n",
        "history = pic_model.fit(x_train, y_train, batch_size=20, epochs=10, validation_data=(x_test, y_test))"
      ],
      "metadata": {
        "colab": {
          "base_uri": "https://localhost:8080/"
        },
        "id": "5a5Ad1igu53r",
        "outputId": "fd50b9ad-6e64-4b6f-da61-c5610de45a8f"
      },
      "execution_count": 21,
      "outputs": [
        {
          "output_type": "stream",
          "name": "stdout",
          "text": [
            "Epoch 1/10\n",
            "2500/2500 [==============================] - 88s 35ms/step - loss: 0.3225 - accuracy: 0.8917 - val_loss: 0.4840 - val_accuracy: 0.8474\n",
            "Epoch 2/10\n",
            "2500/2500 [==============================] - 91s 36ms/step - loss: 0.3128 - accuracy: 0.8947 - val_loss: 0.4821 - val_accuracy: 0.8492\n",
            "Epoch 3/10\n",
            "2500/2500 [==============================] - 91s 36ms/step - loss: 0.3181 - accuracy: 0.8924 - val_loss: 0.4797 - val_accuracy: 0.8505\n",
            "Epoch 4/10\n",
            "2500/2500 [==============================] - 91s 37ms/step - loss: 0.3092 - accuracy: 0.8956 - val_loss: 0.4763 - val_accuracy: 0.8515\n",
            "Epoch 5/10\n",
            "2500/2500 [==============================] - 91s 37ms/step - loss: 0.3084 - accuracy: 0.8953 - val_loss: 0.4759 - val_accuracy: 0.8521\n",
            "Epoch 6/10\n",
            "2500/2500 [==============================] - 91s 37ms/step - loss: 0.3035 - accuracy: 0.8979 - val_loss: 0.4733 - val_accuracy: 0.8522\n",
            "Epoch 7/10\n",
            "2500/2500 [==============================] - 91s 37ms/step - loss: 0.3066 - accuracy: 0.8980 - val_loss: 0.4717 - val_accuracy: 0.8527\n",
            "Epoch 8/10\n",
            "2500/2500 [==============================] - 92s 37ms/step - loss: 0.2999 - accuracy: 0.8991 - val_loss: 0.4717 - val_accuracy: 0.8528\n",
            "Epoch 9/10\n",
            "2500/2500 [==============================] - 86s 35ms/step - loss: 0.3046 - accuracy: 0.8984 - val_loss: 0.4706 - val_accuracy: 0.8530\n",
            "Epoch 10/10\n",
            "2500/2500 [==============================] - 87s 35ms/step - loss: 0.3011 - accuracy: 0.8990 - val_loss: 0.4711 - val_accuracy: 0.8528\n"
          ]
        }
      ]
    },
    {
      "cell_type": "code",
      "source": [],
      "metadata": {
        "id": "AcKkAMDPu5tX"
      },
      "execution_count": 21,
      "outputs": []
    },
    {
      "cell_type": "code",
      "source": [
        "pic_model.evaluate(x_test, y_test, batch_size=50)"
      ],
      "metadata": {
        "id": "UAWPOyvhJ_h5",
        "colab": {
          "base_uri": "https://localhost:8080/"
        },
        "outputId": "e889529f-4034-4ed9-e8c7-bdcfb16ba246"
      },
      "execution_count": 22,
      "outputs": [
        {
          "output_type": "stream",
          "name": "stdout",
          "text": [
            "200/200 [==============================] - 4s 18ms/step - loss: 0.4711 - accuracy: 0.8528\n"
          ]
        },
        {
          "output_type": "execute_result",
          "data": {
            "text/plain": [
              "[0.4711122214794159, 0.8528000116348267]"
            ]
          },
          "metadata": {},
          "execution_count": 22
        }
      ]
    }
  ],
  "metadata": {
    "accelerator": "GPU",
    "colab": {
      "provenance": [],
      "authorship_tag": "ABX9TyMzRSJeAqauu+z9XPaMR/wU",
      "include_colab_link": true
    },
    "kernelspec": {
      "display_name": "Python 3",
      "name": "python3"
    },
    "language_info": {
      "name": "python"
    }
  },
  "nbformat": 4,
  "nbformat_minor": 0
}