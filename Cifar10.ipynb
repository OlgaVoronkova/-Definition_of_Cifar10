{
  "cells": [
    {
      "cell_type": "markdown",
      "metadata": {
        "id": "view-in-github",
        "colab_type": "text"
      },
      "source": [
        "<a href=\"https://colab.research.google.com/github/OlgaVoronkova/Definition_of_Cifar10/blob/main/Cifar10.ipynb\" target=\"_parent\"><img src=\"https://colab.research.google.com/assets/colab-badge.svg\" alt=\"Open In Colab\"/></a>"
      ]
    },
    {
      "cell_type": "code",
      "execution_count": 1,
      "metadata": {
        "id": "9fma8kOcwzki"
      },
      "outputs": [],
      "source": [
        "from tensorflow.keras.datasets import  cifar10 #Библиотека с базой Cifar10\n",
        "from tensorflow.keras.models import Sequential # Подлючаем класс создания модели Sequential\n",
        "from tensorflow.keras.layers import Dense, Conv2D, MaxPooling2D, Flatten, Dropout, BatchNormalization # Подключаем класс Dense - полносвязный слой\n",
        "from tensorflow.keras.optimizers import Adam, Adadelta # Подключаем оптимизатор Adam\n",
        "from tensorflow.keras import utils #Утилиты для to_categorical\n",
        "from tensorflow.keras.preprocessing import image #Для отрисовки изображения\n",
        "import numpy as np # Подключаем библиотеку numpy\n",
        "import pylab # Модуль для построения графиков\n",
        "from mpl_toolkits.mplot3d import Axes3D # Модуль для трехмерной графики\n",
        "from google.colab import files #Для загрузки своей картинки\n",
        "import matplotlib.pyplot as plt #Отрисовка изображений\n",
        "from PIL import Image #Отрисовка изображений\n",
        "from sklearn.model_selection import train_test_split\n",
        "#Отрисовывать изображения в ноутбуке, а не в консоль или файл\n",
        "import random #Для генерации случайных чисел \n",
        "import math # Для округления\n",
        "import os #Для работы с файлами \n",
        "# подключем диск\n",
        "from google.colab import drive\n",
        "%matplotlib inline"
      ]
    },
    {
      "cell_type": "code",
      "execution_count": 2,
      "metadata": {
        "colab": {
          "base_uri": "https://localhost:8080/"
        },
        "id": "EZ4ZXAZ7xYMV",
        "outputId": "d0db3184-bd56-42b5-c684-f4c86f195659"
      },
      "outputs": [
        {
          "output_type": "stream",
          "name": "stdout",
          "text": [
            "Downloading data from https://www.cs.toronto.edu/~kriz/cifar-10-python.tar.gz\n",
            "170500096/170498071 [==============================] - 14s 0us/step\n",
            "170508288/170498071 [==============================] - 14s 0us/step\n"
          ]
        }
      ],
      "source": [
        "(x_train, y_train), (x_test, y_test) = cifar10.load_data()"
      ]
    },
    {
      "cell_type": "code",
      "execution_count": 3,
      "metadata": {
        "colab": {
          "base_uri": "https://localhost:8080/"
        },
        "id": "dOqLZ_E60cBi",
        "outputId": "b19573c1-9080-419b-b0c5-e5e03a35d60b"
      },
      "outputs": [
        {
          "output_type": "stream",
          "name": "stdout",
          "text": [
            "(50000, 32, 32, 3)\n",
            "(10000, 32, 32, 3)\n"
          ]
        }
      ],
      "source": [
        "print(x_train.shape)\n",
        "print(x_test.shape)"
      ]
    },
    {
      "cell_type": "code",
      "execution_count": 4,
      "metadata": {
        "id": "QwAmq5Lt_PCY"
      },
      "outputs": [],
      "source": [
        "# Преобразуем ответы в формат one_hot_encoding\n",
        "y_train = utils.to_categorical(y_train, 10)\n",
        "y_test = utils.to_categorical(y_test, 10)"
      ]
    },
    {
      "cell_type": "code",
      "execution_count": 5,
      "metadata": {
        "colab": {
          "base_uri": "https://localhost:8080/"
        },
        "id": "4AM06CeW1iZ2",
        "outputId": "bffbafc9-83eb-4ab4-8e5f-dadcfa403a10"
      },
      "outputs": [
        {
          "output_type": "stream",
          "name": "stdout",
          "text": [
            "(50000, 10)\n",
            "(10000, 10)\n"
          ]
        }
      ],
      "source": [
        "print(y_train.shape)\n",
        "print(y_test.shape)"
      ]
    },
    {
      "cell_type": "code",
      "execution_count": null,
      "metadata": {
        "colab": {
          "base_uri": "https://localhost:8080/"
        },
        "id": "uYjzW9H92ECX",
        "outputId": "2df75e76-cb06-49c2-de14-438308e1728e"
      },
      "outputs": [
        {
          "output_type": "stream",
          "name": "stdout",
          "text": [
            "Model: \"sequential_19\"\n",
            "_________________________________________________________________\n",
            " Layer (type)                Output Shape              Param #   \n",
            "=================================================================\n",
            " batch_normalization_50 (Bat  (None, 32, 32, 3)        12        \n",
            " chNormalization)                                                \n",
            "                                                                 \n",
            " conv2d_53 (Conv2D)          (None, 32, 32, 1024)      28672     \n",
            "                                                                 \n",
            " max_pooling2d_52 (MaxPoolin  (None, 16, 16, 1024)     0         \n",
            " g2D)                                                            \n",
            "                                                                 \n",
            " dropout_69 (Dropout)        (None, 16, 16, 1024)      0         \n",
            "                                                                 \n",
            " batch_normalization_51 (Bat  (None, 16, 16, 1024)     4096      \n",
            " chNormalization)                                                \n",
            "                                                                 \n",
            " conv2d_54 (Conv2D)          (None, 16, 16, 512)       4719104   \n",
            "                                                                 \n",
            " max_pooling2d_53 (MaxPoolin  (None, 8, 8, 512)        0         \n",
            " g2D)                                                            \n",
            "                                                                 \n",
            " dropout_70 (Dropout)        (None, 8, 8, 512)         0         \n",
            "                                                                 \n",
            " batch_normalization_52 (Bat  (None, 8, 8, 512)        2048      \n",
            " chNormalization)                                                \n",
            "                                                                 \n",
            " conv2d_55 (Conv2D)          (None, 8, 8, 124)         571516    \n",
            "                                                                 \n",
            " max_pooling2d_54 (MaxPoolin  (None, 4, 4, 124)        0         \n",
            " g2D)                                                            \n",
            "                                                                 \n",
            " dropout_71 (Dropout)        (None, 4, 4, 124)         0         \n",
            "                                                                 \n",
            " flatten_19 (Flatten)        (None, 1984)              0         \n",
            "                                                                 \n",
            " dense_38 (Dense)            (None, 500)               992500    \n",
            "                                                                 \n",
            " dropout_72 (Dropout)        (None, 500)               0         \n",
            "                                                                 \n",
            " dense_39 (Dense)            (None, 10)                5010      \n",
            "                                                                 \n",
            "=================================================================\n",
            "Total params: 6,322,958\n",
            "Trainable params: 6,319,880\n",
            "Non-trainable params: 3,078\n",
            "_________________________________________________________________\n",
            "Epoch 1/50\n",
            "1000/1000 [==============================] - 68s 66ms/step - loss: 1.7394 - accuracy: 0.3833 - val_loss: 1.2807 - val_accuracy: 0.5399\n",
            "Epoch 2/50\n",
            "1000/1000 [==============================] - 67s 67ms/step - loss: 1.3581 - accuracy: 0.5105 - val_loss: 1.1228 - val_accuracy: 0.5956\n",
            "Epoch 3/50\n",
            "1000/1000 [==============================] - 68s 68ms/step - loss: 1.1718 - accuracy: 0.5811 - val_loss: 0.9421 - val_accuracy: 0.6743\n",
            "Epoch 4/50\n",
            "1000/1000 [==============================] - 68s 68ms/step - loss: 1.0481 - accuracy: 0.6270 - val_loss: 0.9144 - val_accuracy: 0.6832\n",
            "Epoch 5/50\n",
            "1000/1000 [==============================] - 68s 68ms/step - loss: 0.9611 - accuracy: 0.6586 - val_loss: 0.8507 - val_accuracy: 0.7024\n",
            "Epoch 6/50\n",
            "1000/1000 [==============================] - 68s 68ms/step - loss: 0.8889 - accuracy: 0.6852 - val_loss: 0.7640 - val_accuracy: 0.7346\n",
            "Epoch 7/50\n",
            "1000/1000 [==============================] - 67s 67ms/step - loss: 0.8294 - accuracy: 0.7067 - val_loss: 0.7258 - val_accuracy: 0.7464\n",
            "Epoch 8/50\n",
            "1000/1000 [==============================] - 68s 68ms/step - loss: 0.7753 - accuracy: 0.7277 - val_loss: 0.6917 - val_accuracy: 0.7610\n",
            "Epoch 9/50\n",
            " 440/1000 [============>.................] - ETA: 35s - loss: 0.7258 - accuracy: 0.7450"
          ]
        }
      ],
      "source": [
        "pic_model = Sequential()\n",
        "#Слой пакетной нормализации\n",
        "pic_model.add(BatchNormalization(input_shape=(32, 32, 3)))\n",
        "#Первый сверточный слой\n",
        "pic_model.add(Conv2D(1024, (3, 3), padding='same', activation='relu'))\n",
        "#Первый слой подвыборки\n",
        "pic_model.add(MaxPooling2D(pool_size=(2, 2)))\n",
        "#Слой регуляризации Dropout\n",
        "pic_model.add(Dropout(0.3))\n",
        "\n",
        "pic_model.add(BatchNormalization())\n",
        "#Второй сверточный слой\n",
        "pic_model.add(Conv2D(512, (3, 3), padding='same', activation='relu'))\n",
        "#Первый слой подвыборки\n",
        "pic_model.add(MaxPooling2D(pool_size=(2, 2)))\n",
        "#Слой регуляризации Dropout\n",
        "pic_model.add(Dropout(0.3))\n",
        "\n",
        "pic_model.add(BatchNormalization())\n",
        "#Первый сверточный слой\n",
        "pic_model.add(Conv2D(124, (3, 3), padding='same', activation='relu'))\n",
        "#Первый слой подвыборки\n",
        "pic_model.add(MaxPooling2D(pool_size=(2, 2)))\n",
        "#Слой регуляризации Dropout\n",
        "pic_model.add(Dropout(0.3))\n",
        "\n",
        "pic_model.add(BatchNormalization())\n",
        "#Первый сверточный слой\n",
        "pic_model.add(Conv2D(32, (3, 3), padding='same', activation='relu'))\n",
        "#Слой регуляризации Dropout\n",
        "pic_model.add(Dropout(0.3))\n",
        "\n",
        "pic_model.add(Flatten())\n",
        "#Полносвязный слой для классификации\n",
        "pic_model.add(Dense(500, activation='relu'))\n",
        "pic_model.add(Dropout(0.3))\n",
        "pic_model.add(Dense(10, activation=\"softmax\"))\n",
        "\n",
        "pic_model.compile(loss=\"categorical_crossentropy\", optimizer=Adam(lr=0.0001), metrics=['accuracy'])\n",
        "pic_model.summary()\n",
        "\n",
        "#fit - функция обучения нейронки\n",
        "#x_train, y_train - обучающая выборка, входные и выходные данные\n",
        "#batch_size - размер батча, количество примеров, которое обрабатывает нейронка перед одним изменением весов\n",
        "#epochs - количество эпох, когда нейронка обучается на всех примерах выборки\n",
        "#verbose - 0 - не визуализировать ход обучения, 1 - визуализировать\n",
        "history = pic_model.fit(x_train, y_train, batch_size=50, epochs=50, validation_data=(x_test, y_test))"
      ]
    },
    {
      "cell_type": "code",
      "source": [
        "pic_model.evaluate(x_test, y_test, batch_size=50)"
      ],
      "metadata": {
        "colab": {
          "base_uri": "https://localhost:8080/"
        },
        "id": "UAWPOyvhJ_h5",
        "outputId": "95757cce-26d3-4153-bb46-141247e19d95"
      },
      "execution_count": 18,
      "outputs": [
        {
          "output_type": "stream",
          "name": "stdout",
          "text": [
            "200/200 [==============================] - 1s 4ms/step - loss: 0.4866 - accuracy: 0.8336\n"
          ]
        },
        {
          "output_type": "execute_result",
          "data": {
            "text/plain": [
              "[0.48656049370765686, 0.8335999846458435]"
            ]
          },
          "metadata": {},
          "execution_count": 18
        }
      ]
    }
  ],
  "metadata": {
    "accelerator": "GPU",
    "colab": {
      "provenance": [],
      "authorship_tag": "ABX9TyMrNjszfK5+6p0+k4nx9xQq",
      "include_colab_link": true
    },
    "kernelspec": {
      "display_name": "Python 3",
      "name": "python3"
    },
    "language_info": {
      "name": "python"
    }
  },
  "nbformat": 4,
  "nbformat_minor": 0
}